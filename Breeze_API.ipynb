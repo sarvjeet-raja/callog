{
  "cells": [
    {
      "cell_type": "markdown",
      "metadata": {
        "id": "view-in-github",
        "colab_type": "text"
      },
      "source": [
        "<a href=\"https://colab.research.google.com/github/sarvjeet-raja/callog/blob/master/Breeze_API.ipynb\" target=\"_parent\"><img src=\"https://colab.research.google.com/assets/colab-badge.svg\" alt=\"Open In Colab\"/></a>"
      ]
    },
    {
      "cell_type": "code",
      "execution_count": null,
      "metadata": {
        "colab": {
          "base_uri": "https://localhost:8080/"
        },
        "id": "UpXgdbFWnuM5",
        "outputId": "9557b26f-788e-4dc7-984f-c86a7a1cd7ab"
      },
      "outputs": [
        {
          "name": "stdout",
          "output_type": "stream",
          "text": [
            "hello world\n"
          ]
        }
      ],
      "source": [
        "print(\"hello world\")"
      ]
    },
    {
      "cell_type": "markdown",
      "metadata": {
        "id": "rA8JY8vGK_KW"
      },
      "source": []
    },
    {
      "cell_type": "code",
      "execution_count": 2,
      "metadata": {
        "colab": {
          "base_uri": "https://localhost:8080/"
        },
        "id": "PIdbmC9yoCOw",
        "outputId": "2858e52a-4375-400c-e288-eb1e87005905"
      },
      "outputs": [
        {
          "output_type": "stream",
          "name": "stdout",
          "text": [
            "Collecting breeze-connect\n",
            "  Downloading breeze_connect-1.0.56.tar.gz (29 kB)\n",
            "  Preparing metadata (setup.py) ... \u001b[?25l\u001b[?25hdone\n",
            "Collecting python-socketio[client] (from breeze-connect)\n",
            "  Downloading python_socketio-5.11.3-py3-none-any.whl.metadata (3.2 kB)\n",
            "Requirement already satisfied: requests in /usr/local/lib/python3.10/dist-packages (from breeze-connect) (2.31.0)\n",
            "Requirement already satisfied: pandas in /usr/local/lib/python3.10/dist-packages (from breeze-connect) (2.1.4)\n",
            "Requirement already satisfied: numpy<2,>=1.22.4 in /usr/local/lib/python3.10/dist-packages (from pandas->breeze-connect) (1.26.4)\n",
            "Requirement already satisfied: python-dateutil>=2.8.2 in /usr/local/lib/python3.10/dist-packages (from pandas->breeze-connect) (2.8.2)\n",
            "Requirement already satisfied: pytz>=2020.1 in /usr/local/lib/python3.10/dist-packages (from pandas->breeze-connect) (2024.1)\n",
            "Requirement already satisfied: tzdata>=2022.1 in /usr/local/lib/python3.10/dist-packages (from pandas->breeze-connect) (2024.1)\n",
            "Requirement already satisfied: bidict>=0.21.0 in /usr/local/lib/python3.10/dist-packages (from python-socketio[client]->breeze-connect) (0.23.1)\n",
            "Collecting python-engineio>=4.8.0 (from python-socketio[client]->breeze-connect)\n",
            "  Downloading python_engineio-4.9.1-py3-none-any.whl.metadata (2.2 kB)\n",
            "Requirement already satisfied: websocket-client>=0.54.0 in /usr/local/lib/python3.10/dist-packages (from python-socketio[client]->breeze-connect) (1.8.0)\n",
            "Requirement already satisfied: charset-normalizer<4,>=2 in /usr/local/lib/python3.10/dist-packages (from requests->breeze-connect) (3.3.2)\n",
            "Requirement already satisfied: idna<4,>=2.5 in /usr/local/lib/python3.10/dist-packages (from requests->breeze-connect) (3.7)\n",
            "Requirement already satisfied: urllib3<3,>=1.21.1 in /usr/local/lib/python3.10/dist-packages (from requests->breeze-connect) (2.0.7)\n",
            "Requirement already satisfied: certifi>=2017.4.17 in /usr/local/lib/python3.10/dist-packages (from requests->breeze-connect) (2024.7.4)\n",
            "Requirement already satisfied: six>=1.5 in /usr/local/lib/python3.10/dist-packages (from python-dateutil>=2.8.2->pandas->breeze-connect) (1.16.0)\n",
            "Collecting simple-websocket>=0.10.0 (from python-engineio>=4.8.0->python-socketio[client]->breeze-connect)\n",
            "  Downloading simple_websocket-1.0.0-py3-none-any.whl.metadata (1.3 kB)\n",
            "Collecting wsproto (from simple-websocket>=0.10.0->python-engineio>=4.8.0->python-socketio[client]->breeze-connect)\n",
            "  Downloading wsproto-1.2.0-py3-none-any.whl.metadata (5.6 kB)\n",
            "Collecting h11<1,>=0.9.0 (from wsproto->simple-websocket>=0.10.0->python-engineio>=4.8.0->python-socketio[client]->breeze-connect)\n",
            "  Downloading h11-0.14.0-py3-none-any.whl.metadata (8.2 kB)\n",
            "Downloading python_engineio-4.9.1-py3-none-any.whl (57 kB)\n",
            "\u001b[2K   \u001b[90m━━━━━━━━━━━━━━━━━━━━━━━━━━━━━━━━━━━━━━━━\u001b[0m \u001b[32m57.7/57.7 kB\u001b[0m \u001b[31m3.4 MB/s\u001b[0m eta \u001b[36m0:00:00\u001b[0m\n",
            "\u001b[?25hDownloading python_socketio-5.11.3-py3-none-any.whl (76 kB)\n",
            "\u001b[2K   \u001b[90m━━━━━━━━━━━━━━━━━━━━━━━━━━━━━━━━━━━━━━━━\u001b[0m \u001b[32m76.2/76.2 kB\u001b[0m \u001b[31m5.0 MB/s\u001b[0m eta \u001b[36m0:00:00\u001b[0m\n",
            "\u001b[?25hDownloading simple_websocket-1.0.0-py3-none-any.whl (13 kB)\n",
            "Downloading wsproto-1.2.0-py3-none-any.whl (24 kB)\n",
            "Downloading h11-0.14.0-py3-none-any.whl (58 kB)\n",
            "\u001b[2K   \u001b[90m━━━━━━━━━━━━━━━━━━━━━━━━━━━━━━━━━━━━━━━━\u001b[0m \u001b[32m58.3/58.3 kB\u001b[0m \u001b[31m2.4 MB/s\u001b[0m eta \u001b[36m0:00:00\u001b[0m\n",
            "\u001b[?25hBuilding wheels for collected packages: breeze-connect\n",
            "  Building wheel for breeze-connect (setup.py) ... \u001b[?25l\u001b[?25hdone\n",
            "  Created wheel for breeze-connect: filename=breeze_connect-1.0.56-py3-none-any.whl size=24759 sha256=8cb7969fe2d67b6982a02a9044c5197a3adc10c64f8f0d804605234c676aa7eb\n",
            "  Stored in directory: /root/.cache/pip/wheels/c5/3d/f6/b31bf1debab5560df9eb6d637f291623af95b9185b36579509\n",
            "Successfully built breeze-connect\n",
            "Installing collected packages: h11, wsproto, simple-websocket, python-engineio, python-socketio, breeze-connect\n",
            "Successfully installed breeze-connect-1.0.56 h11-0.14.0 python-engineio-4.9.1 python-socketio-5.11.3 simple-websocket-1.0.0 wsproto-1.2.0\n"
          ]
        }
      ],
      "source": [
        "pip install breeze-connect"
      ]
    },
    {
      "cell_type": "markdown",
      "metadata": {
        "id": "q9rzVl9JxOGf"
      },
      "source": []
    },
    {
      "cell_type": "code",
      "execution_count": 3,
      "metadata": {
        "id": "nQkxeoeWokG2"
      },
      "outputs": [],
      "source": [
        "from breeze_connect import BreezeConnect"
      ]
    },
    {
      "cell_type": "code",
      "execution_count": 4,
      "metadata": {
        "colab": {
          "base_uri": "https://localhost:8080/"
        },
        "id": "N7Cz_akLxoyU",
        "outputId": "2e4614db-e3fe-480a-f547-b266b9d34bf0"
      },
      "outputs": [
        {
          "output_type": "stream",
          "name": "stdout",
          "text": [
            "https://api.icicidirect.com/apiuser/login?api_key=7%28L5S1w11v56018GO9m%3D4~82F2596%25Q1\n"
          ]
        }
      ],
      "source": [
        "breeze = BreezeConnect(api_key=\"7(L5S1w11v56018GO9m=4~82F2596%Q1\")\n",
        "import urllib\n",
        "print(\"https://api.icicidirect.com/apiuser/login?api_key=\"+urllib.parse.quote_plus(\"7(L5S1w11v56018GO9m=4~82F2596%Q1\"))"
      ]
    },
    {
      "cell_type": "code",
      "execution_count": 5,
      "metadata": {
        "id": "315wKpv33eka"
      },
      "outputs": [],
      "source": [
        "\n",
        "breeze.generate_session(api_secret=\"1782`3H8F453Jx9=D5I6582P869@2o75\"\n",
        ", session_token=\"45371874\")"
      ]
    },
    {
      "cell_type": "markdown",
      "metadata": {
        "id": "QpAVDVZyrKtr"
      },
      "source": [
        "breeze.get_customer_details(api_session=\"43763754\")"
      ]
    },
    {
      "cell_type": "markdown",
      "metadata": {
        "id": "b6so5xpTrLdV"
      },
      "source": []
    },
    {
      "cell_type": "code",
      "execution_count": 6,
      "metadata": {
        "id": "rqYxfe6SHtGP",
        "colab": {
          "base_uri": "https://localhost:8080/"
        },
        "outputId": "83506663-bb23-4704-95a3-6d7cd1bfc834"
      },
      "outputs": [
        {
          "output_type": "execute_result",
          "data": {
            "text/plain": [
              "{'message': 'Stock NIFTY subscribed successfully'}"
            ]
          },
          "metadata": {},
          "execution_count": 6
        }
      ],
      "source": [
        "\n",
        "# Connect to websocket(it will connect to tick-by-tick data server)\n",
        "breeze.ws_connect()\n",
        "\n",
        "# Callback to receive ticks.\n",
        "def on_ticks(ticks):\n",
        "    print(\"Ticks: {}\".format(ticks))\n",
        "\n",
        "# Assign the callbacks.\n",
        "breeze.on_ticks = on_ticks\n",
        "\n",
        "\n",
        "# subscribe stocks feedsbreeze.subscribe_feeds(exchange_code=\"NSE\", stock_code=\"NIFTY\", product_type=\"options\", expiry_date=\"31-July-2024\", strike_price=\"22000\", right=\"Call\", get_exchange_quotes=True, get_market_depth=False)\n",
        "#breeze.subscribe_feeds(exchange_code=\"NSE\", stock_code=\"ZEEENT\", product_type=\"\",get_exchange_quotes=\"True\", get_market_depth=\"False\")\n",
        "breeze.subscribe_feeds(exchange_code=\"NSE\", stock_code=\"NIFTY\", product_type=\"options\", expiry_date=\"14-AUGUST-2024\", strike_price=\"23000\", right=\"Call\", get_exchange_quotes=\"True\", get_market_depth=\"False\")"
      ]
    },
    {
      "cell_type": "code",
      "execution_count": null,
      "metadata": {
        "id": "BuUXS7qK3nO8"
      },
      "outputs": [],
      "source": [
        "breeze.subscribe_feeds(exchange_code=\"NSE\",stock_code=\"RELIANCE\",product_type=\"cash\",\n",
        "                          strike_price=0,\n",
        "                               expiry_date=\"14-AUGUST-2024\",\n",
        "                               right=\"others\",\n",
        "                               get_exchange_quotes=True,\n",
        "                               get_market_depth=True)"
      ]
    },
    {
      "cell_type": "code",
      "execution_count": null,
      "metadata": {
        "colab": {
          "base_uri": "https://localhost:8080/"
        },
        "id": "idQNkyqV-27H",
        "outputId": "bc64ac9b-0181-4ae3-b81b-94a588714e86"
      },
      "outputs": [
        {
          "data": {
            "text/plain": [
              "{'message': 'Stock NIFTY subscribed successfully'}"
            ]
          },
          "execution_count": 21,
          "metadata": {},
          "output_type": "execute_result"
        }
      ],
      "source": [
        "breeze.subscribe_feeds(exchange_code=\"NSE\", stock_code=\"NIFTY\", product_type=\"options\", expiry_date=\"14-AUG-2024\", strike_price=\"23000\", right=\"Call\", get_exchange_quotes=\"True\", get_market_depth=\"False\")"
      ]
    },
    {
      "cell_type": "markdown",
      "metadata": {
        "id": "CUD3arB_wZeI"
      },
      "source": []
    },
    {
      "cell_type": "code",
      "execution_count": null,
      "metadata": {
        "colab": {
          "base_uri": "https://localhost:8080/"
        },
        "id": "Eg5k_7FMNNsK",
        "outputId": "fe3f1e56-9f57-4791-8d89-c790218629ee"
      },
      "outputs": [
        {
          "data": {
            "text/plain": [
              "{'Success': None, 'Status': 200, 'Error': 'No Positions available.'}"
            ]
          },
          "execution_count": 86,
          "metadata": {},
          "output_type": "execute_result"
        }
      ],
      "source": [
        "breeze.get_portfolio_positions()"
      ]
    },
    {
      "cell_type": "code",
      "execution_count": 18,
      "metadata": {
        "colab": {
          "base_uri": "https://localhost:8080/",
          "height": 335
        },
        "id": "fAsoJg4a0PU6",
        "outputId": "30820eeb-c9d5-4a93-891e-b4b2663bd519"
      },
      "outputs": [
        {
          "output_type": "stream",
          "name": "stdout",
          "text": [
            "11:03:29.054870\n",
            "11:03:34.059677\n"
          ]
        },
        {
          "output_type": "error",
          "ename": "KeyboardInterrupt",
          "evalue": "",
          "traceback": [
            "\u001b[0;31m---------------------------------------------------------------------------\u001b[0m",
            "\u001b[0;31mKeyboardInterrupt\u001b[0m                         Traceback (most recent call last)",
            "\u001b[0;32m<ipython-input-18-f2c3d4e7f543>\u001b[0m in \u001b[0;36m<cell line: 5>\u001b[0;34m()\u001b[0m\n\u001b[1;32m      5\u001b[0m \u001b[0;32mwhile\u001b[0m \u001b[0mdatetime\u001b[0m\u001b[0;34m.\u001b[0m\u001b[0mdatetime\u001b[0m\u001b[0;34m.\u001b[0m\u001b[0mnow\u001b[0m\u001b[0;34m(\u001b[0m\u001b[0mpytz\u001b[0m\u001b[0;34m.\u001b[0m\u001b[0mtimezone\u001b[0m\u001b[0;34m(\u001b[0m\u001b[0;34m'Asia/Kolkata'\u001b[0m\u001b[0;34m)\u001b[0m\u001b[0;34m)\u001b[0m\u001b[0;34m.\u001b[0m\u001b[0mtime\u001b[0m\u001b[0;34m(\u001b[0m\u001b[0;34m)\u001b[0m\u001b[0;34m<\u001b[0m\u001b[0mdatetime\u001b[0m\u001b[0;34m.\u001b[0m\u001b[0mtime\u001b[0m\u001b[0;34m(\u001b[0m\u001b[0;36m18\u001b[0m\u001b[0;34m,\u001b[0m\u001b[0;36m55\u001b[0m\u001b[0;34m)\u001b[0m\u001b[0;34m:\u001b[0m\u001b[0;34m\u001b[0m\u001b[0;34m\u001b[0m\u001b[0m\n\u001b[1;32m      6\u001b[0m      \u001b[0mprint\u001b[0m\u001b[0;34m(\u001b[0m\u001b[0mdatetime\u001b[0m\u001b[0;34m.\u001b[0m\u001b[0mdatetime\u001b[0m\u001b[0;34m.\u001b[0m\u001b[0mnow\u001b[0m\u001b[0;34m(\u001b[0m\u001b[0mpytz\u001b[0m\u001b[0;34m.\u001b[0m\u001b[0mtimezone\u001b[0m\u001b[0;34m(\u001b[0m\u001b[0;34m'Asia/Kolkata'\u001b[0m\u001b[0;34m)\u001b[0m\u001b[0;34m)\u001b[0m\u001b[0;34m.\u001b[0m\u001b[0mtime\u001b[0m\u001b[0;34m(\u001b[0m\u001b[0;34m)\u001b[0m\u001b[0;34m)\u001b[0m\u001b[0;34m\u001b[0m\u001b[0;34m\u001b[0m\u001b[0m\n\u001b[0;32m----> 7\u001b[0;31m      \u001b[0mtime\u001b[0m\u001b[0;34m.\u001b[0m\u001b[0msleep\u001b[0m\u001b[0;34m(\u001b[0m\u001b[0;36m5\u001b[0m\u001b[0;34m)\u001b[0m\u001b[0;34m\u001b[0m\u001b[0;34m\u001b[0m\u001b[0m\n\u001b[0m",
            "\u001b[0;31mKeyboardInterrupt\u001b[0m: "
          ]
        }
      ],
      "source": [
        "import datetime\n",
        "import pytz\n",
        "import time\n",
        "\n",
        "while datetime.datetime.now(pytz.timezone('Asia/Kolkata')).time()<datetime.time(18,55):\n",
        "     print(datetime.datetime.now(pytz.timezone('Asia/Kolkata')).time())\n",
        "     time.sleep(5)"
      ]
    },
    {
      "cell_type": "markdown",
      "metadata": {
        "id": "fT-n-Ugz9GRM"
      },
      "source": []
    },
    {
      "cell_type": "code",
      "execution_count": null,
      "metadata": {
        "colab": {
          "base_uri": "https://localhost:8080/"
        },
        "id": "31GFI3-O9DUO",
        "outputId": "eda719e4-232d-4c58-c46a-471f021771ff"
      },
      "outputs": [
        {
          "data": {
            "text/plain": [
              "{'exchange_code': 'NSE',\n",
              " 'exchange_stock_code': 'RELIANCE',\n",
              " 'isec_stock_code': 'RELIND',\n",
              " 'isec_token': '2885',\n",
              " 'company name': 'RELIANCE INDUSTRIES',\n",
              " 'isec_token_level1': '4.1!2885',\n",
              " 'isec_token_level2': '4.2!2885'}"
            ]
          },
          "execution_count": 88,
          "metadata": {},
          "output_type": "execute_result"
        }
      ],
      "source": [
        "breeze.get_names(exchange_code = 'NSE',stock_code = 'RELIANCE')\n"
      ]
    },
    {
      "cell_type": "code",
      "execution_count": 17,
      "metadata": {
        "colab": {
          "base_uri": "https://localhost:8080/"
        },
        "id": "cYb3WhWw0PtA",
        "outputId": "c2bf6be7-eeb0-4b34-f95e-3cc0697211aa"
      },
      "outputs": [
        {
          "output_type": "execute_result",
          "data": {
            "text/plain": [
              "{'message': 'Stock NIFTY subscribed successfully'}"
            ]
          },
          "metadata": {},
          "execution_count": 17
        }
      ],
      "source": [
        "\n",
        "breeze.subscribe_feeds(exchange_code=\"NFO\", stock_code=\"NIFTY\", product_type=\"options\", expiry_date=\"14-Aug-2024\", strike_price=\"23500\", right=\"Call\", get_exchange_quotes=True, get_market_depth=False)"
      ]
    },
    {
      "cell_type": "code",
      "execution_count": null,
      "metadata": {
        "colab": {
          "base_uri": "https://localhost:8080/"
        },
        "id": "mfrdmuMn3VLk",
        "outputId": "e18424b6-3989-48e7-fb83-d0f8d4715d23"
      },
      "outputs": [
        {
          "data": {
            "text/plain": [
              "{'message': 'Stock ITC unsubscribed successfully'}"
            ]
          },
          "execution_count": 89,
          "metadata": {},
          "output_type": "execute_result"
        }
      ],
      "source": [
        "breeze.unsubscribe_feeds(exchange_code=\"NSE\", stock_code=\"ITC\", product_type=\"\", expiry_date=\"\", strike_price=\"\", right=\"\", get_exchange_quotes=\"True\", get_market_depth=\"False\")\n",
        "\n"
      ]
    }
  ],
  "metadata": {
    "colab": {
      "provenance": [],
      "authorship_tag": "ABX9TyMKhoILpsrzaN0YrT7fDHZB",
      "include_colab_link": true
    },
    "kernelspec": {
      "display_name": "Python 3",
      "name": "python3"
    },
    "language_info": {
      "name": "python"
    }
  },
  "nbformat": 4,
  "nbformat_minor": 0
}